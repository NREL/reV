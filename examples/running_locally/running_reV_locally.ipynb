{
 "cells": [
  {
   "cell_type": "markdown",
   "metadata": {},
   "source": [
    "# How to run reV Locally\n",
    "\n",
    "[reV Gen](https://nrel.github.io/reV/_autosummary/reV.generation.generation.Gen.html#reV.generation.generation.Gen) and [reV Econ](https://nrel.github.io/reV/_autosummary/reV.econ.econ.Econ.html#reV.econ.econ.Econ) can be run locally using resource .h5 files stored locally or using the [HDF Groups](https://www.hdfgroup.org) Highly Scalable Distributed Service (HSDS) to access resource .h5 file stored in the cloud (currenly on Amazon Web Services -- AWS).\n",
    "\n",
    "reV uses [PySAM](https://nrel-pysam.readthedocs.io/en/latest/) to\n",
    "compute technologically specific capcity factor means and profiles (`Gen`) and mean levelized cost of energy (`Econ`). `reV`\n",
    "uses ``SAM`` technology terms and input configuration files. \n",
    "\n",
    "There are examples below and also in the reV generation class documentation [here](https://nrel.github.io/reV/_autosummary/reV.generation.generation.Gen.html#reV.generation.generation.Gen).\n",
    "\n",
    "NOTE: In all of these examples, the ``sam_file`` input points to files in\n",
    "the reV test directory [`TESTDATADIR`](https://github.com/NREL/reV/tree/main/tests/data) that may not be copied in your install. You may want to download the relevant SAM system configs from that directory and point the ``sam_file`` variable to the correct filepath on your computer."
   ]
  },
  {
   "cell_type": "markdown",
   "metadata": {},
   "source": [
    "## Running reV Gen+Econ\n",
    "### Locally\n",
    "\n",
    "NOTE: as with the `sam_file` path metioned above, the `res_file` path references files in reVs `TESTDATADIR` you might need to download them from [github](https://github.com/NREL/reV/tree/main/tests/data) and point the `res_file` variable to the correct file path on your computer.\n",
    "\n",
    "#### windpower\n",
    "\n",
    "Compute wind capacity factors for a given set of latitude and longitude\n",
    "coordinates:"
   ]
  },
  {
   "cell_type": "code",
   "execution_count": 1,
   "metadata": {},
   "outputs": [
    {
     "name": "stderr",
     "output_type": "stream",
     "text": [
      "WARNING: points are not in sequential order and will be sorted! The original order is being preserved under column \"points_order\"\n",
      "/Users/mrossol/Git_Repos/reV/reV/config/project_points.py:576: UserWarning: WARNING: points are not in sequential order and will be sorted! The original order is being preserved under column \"points_order\"\n",
      "  warn(msg)\n",
      "It appears old SAM v1 keys are being used. Updated key \"wind_farm_losses_percent\" to \"turb_generic_loss\".\n",
      "/Users/mrossol/Git_Repos/reV/reV/SAM/version_checker.py:101: PySAMVersionWarning: It appears old SAM v1 keys are being used. Updated key \"wind_farm_losses_percent\" to \"turb_generic_loss\".\n",
      "  warn(m, PySAMVersionWarning)\n"
     ]
    },
    {
     "data": {
      "text/plain": [
       "array([0.35720587, 0.37741643, 0.500766  , 0.48840794, 0.50351036,\n",
       "       0.4890139 ], dtype=float32)"
      ]
     },
     "metadata": {},
     "output_type": "display_data"
    },
    {
     "data": {
      "text/plain": [
       "array([[0.319, 0.485, 0.6  , 0.543, 0.579, 0.486],\n",
       "       [0.382, 0.444, 0.288, 0.562, 0.339, 0.601],\n",
       "       [0.696, 0.398, 0.5  , 0.656, 0.466, 0.677],\n",
       "       ...,\n",
       "       [0.833, 0.833, 0.833, 0.833, 0.833, 0.833],\n",
       "       [0.782, 0.833, 0.833, 0.833, 0.833, 0.833],\n",
       "       [0.756, 0.833, 0.833, 0.833, 0.833, 0.833]], dtype=float32)"
      ]
     },
     "metadata": {},
     "output_type": "display_data"
    }
   ],
   "source": [
    "import os\n",
    "import numpy as np\n",
    "from reV import TESTDATADIR\n",
    "from reV.config.project_points import ProjectPoints\n",
    "from reV.generation.generation import Gen\n",
    "\n",
    "lat_lons = np.array([[ 41.25, -71.66],\n",
    "                     [ 41.05, -71.74],\n",
    "                     [ 41.97, -71.78],\n",
    "                     [ 41.65, -71.74],\n",
    "                     [ 41.25, -71.7 ],\n",
    "                     [ 41.05, -71.78]])\n",
    "\n",
    "res_file = os.path.join(TESTDATADIR, 'wtk/ri_100_wtk_2012.h5')\n",
    "sam_file = os.path.join(TESTDATADIR,\n",
    "                        'SAM/wind_gen_standard_losses_0.json')\n",
    "\n",
    "pp = ProjectPoints.lat_lon_coords(lat_lons, res_file, sam_file)\n",
    "gen = Gen('windpower', pp, sam_file, res_file,\n",
    "          output_request=('cf_mean', 'cf_profile'))\n",
    "gen.run(max_workers=1)\n",
    "display(gen.out['cf_mean'])\n",
    "display(gen.out['cf_profile'])"
   ]
  },
  {
   "cell_type": "markdown",
   "metadata": {},
   "source": [
    "### pvwatts\n",
    "\n",
    "NOTE: ``pvwattsv5`` and ``pvwattsv7`` are both available from reV.\n",
    "\n",
    "Compute pv capacity factors and lcoe for all resource gids in Rhode Island:"
   ]
  },
  {
   "cell_type": "code",
   "execution_count": 2,
   "metadata": {},
   "outputs": [
    {
     "data": {
      "text/plain": [
       "array([0.17571239, 0.17621112, 0.1769193 , 0.16443734, 0.16479948,\n",
       "       0.17848527, 0.17567115, 0.16595586, 0.16590102, 0.17567268,\n",
       "       0.17551209, 0.17544279, 0.1758483 , 0.1781524 , 0.16609544,\n",
       "       0.17655854, 0.1766948 , 0.16604662, 0.17523618, 0.17531228,\n",
       "       0.1666574 , 0.17560133, 0.16629359, 0.17656481, 0.1750054 ,\n",
       "       0.1752908 , 0.17658393, 0.16675328, 0.16669087, 0.16653797,\n",
       "       0.16687067, 0.17903888, 0.17576791, 0.17574655, 0.17709686,\n",
       "       0.17669852, 0.1769204 , 0.17820692, 0.17672373, 0.17549326,\n",
       "       0.1659799 , 0.1666653 , 0.17583768, 0.17579986, 0.16725487,\n",
       "       0.16691147, 0.17654173, 0.16690645, 0.16711442, 0.17622866,\n",
       "       0.17592776, 0.17732163, 0.16735603, 0.1668892 , 0.17714171,\n",
       "       0.17551471, 0.17758526], dtype=float32)"
      ]
     },
     "metadata": {},
     "output_type": "display_data"
    },
    {
     "data": {
      "text/plain": [
       "array([132.45659, 132.08171, 131.55301, 141.5388 , 141.22777, 130.3988 ,\n",
       "       132.48769, 140.24371, 140.29005, 132.48654, 132.60776, 132.66014,\n",
       "       132.35422, 130.64244, 140.12585, 131.8218 , 131.72015, 140.16705,\n",
       "       132.81654, 132.7589 , 139.65335, 132.54037, 139.95888, 131.81712,\n",
       "       132.9917 , 132.77518, 131.80286, 139.57306, 139.6253 , 139.75351,\n",
       "       139.47487, 129.99559, 132.41475, 132.43085, 131.4211 , 131.71738,\n",
       "       131.55219, 130.60246, 131.69858, 132.622  , 140.22339, 139.64673,\n",
       "       132.36221, 132.39069, 139.1545 , 139.44077, 131.83435, 139.44496,\n",
       "       139.27144, 132.06856, 132.29443, 131.25452, 139.07037, 139.45938,\n",
       "       131.38783, 132.60577, 131.05966], dtype=float32)"
      ]
     },
     "metadata": {},
     "output_type": "display_data"
    }
   ],
   "source": [
    "import os\n",
    "from reV import TESTDATADIR\n",
    "from reV.config.project_points import ProjectPoints\n",
    "from reV.generation.generation import Gen\n",
    "\n",
    "regions = {'Rhode Island': 'state'}\n",
    "\n",
    "res_file = os.path.join(TESTDATADIR, 'nsrdb/', 'ri_100_nsrdb_2012.h5')\n",
    "sam_file = os.path.join(TESTDATADIR, 'SAM/naris_pv_1axis_inv13.json')\n",
    "\n",
    "pp = ProjectPoints.regions(regions, res_file, sam_file)\n",
    "gen = Gen('pvwattsv5', pp, sam_file, res_file,\n",
    "          output_request=('cf_mean', 'cf_profile', 'lcoe_fcr'))\n",
    "gen.run(max_workers=1)\n",
    "display(gen.out['cf_mean'])\n",
    "display(gen.out['lcoe_fcr'])"
   ]
  },
  {
   "cell_type": "markdown",
   "metadata": {},
   "source": [
    "### Using HSDS\n",
    "\n",
    "The Highly Scalable Distributed Service (HSDS) is a cloud optimized API to enable access to .h5 files hosted on [AWS](https://registry.opendata.aws). The HSDS software was developed by the [HDF Group](https://www.hdfgroup.org/) and is hosted on Amazon Web Services (AWS) using a combination of EC2 (Elastic Compute) and S3 (Scalable Storage Service). You can read more about the HSDS service [in this slide deck](https://www.slideshare.net/HDFEOS/hdf-cloud-services).\n",
    "\n",
    "\n",
    "#### Setting up HSDS\n",
    "\n",
    "To get started install the h5pyd library:\n",
    "\n",
    "```bash\n",
    "pip install h5pyd\n",
    "```\n",
    "\n",
    "Next, configure h5pyd by running ``hsconfigure`` from the command line, or by\n",
    "creating a configuration file at ``~/.hscfg``:\n",
    "\n",
    "```bash\n",
    "hsconfigure\n",
    "\n",
    "hs_endpoint = https://developer.nrel.gov/api/hsds\n",
    "hs_username =\n",
    "hs_password =\n",
    "hs_api_key = 3K3JQbjZmWctY0xmIfSYvYgtIcM3CN0cb1Y2w9bf\n",
    "```\n",
    "\n",
    "**The example API key here is for demonstration and is rate-limited per IP. To\n",
    "get your own API key, visit https://developer.nrel.gov/signup/**\n",
    "\n",
    "**Please note that our HSDS service is for demonstration purposes only, if you\n",
    "would like to use HSDS for production runs of reV please setup your own\n",
    "service: https://github.com/HDFGroup/hsds and point it to our public HSDS\n",
    "bucket: s3://nrel-pds-hsds**"
   ]
  },
  {
   "cell_type": "markdown",
   "metadata": {},
   "source": [
    "#### Using HSDS with reV\n",
    "\n",
    "Once h5pyd has been installed and configured, [rex](https://github.com/nrel/rex) can pull data directly from AWS using [HSDS](https://github.com/NREL/hsds-examples)\n",
    "\n",
    "To access the resource data used by reV (NSRDB or WTK) you have to turn on the\n",
    "``hsds`` flag in the `rex`'s [resource handlers](https://nrel.github.io/rex/rex/rex.renewable_resource.html):"
   ]
  },
  {
   "cell_type": "code",
   "execution_count": null,
   "metadata": {},
   "outputs": [],
   "source": [
    "import rex\n",
    "\n",
    "nsrdb_file = '/nrel/nsrdb/v3/nsrdb_2013.h5'\n",
    "with rex.Resource(nsrdb_file, hsds=True) as f:\n",
    "    meta_data = f.meta\n",
    "    time_index = f.time_index\n",
    "\n",
    "display(meta.head())\n",
    "diplay(time_index)"
   ]
  },
  {
   "cell_type": "markdown",
   "metadata": {},
   "source": [
    "#### windpower\n",
    "\n",
    "Compute wind capacity factors for a given set of latitude and longitude\n",
    "coordinates:"
   ]
  },
  {
   "cell_type": "code",
   "execution_count": 8,
   "metadata": {},
   "outputs": [
    {
     "name": "stderr",
     "output_type": "stream",
     "text": [
      "WARNING:reV.config.project_points:WARNING: points are not in sequential order and will be sorted! The original order is being preserved under column \"points_order\"\n",
      "/Users/mrossol/Git_Repos/reV/reV/config/project_points.py:576: UserWarning: WARNING: points are not in sequential order and will be sorted! The original order is being preserved under column \"points_order\"\n",
      "  warn(msg)\n",
      "WARNING:reV.SAM.version_checker:It appears old SAM v1 keys are being used. Updated key \"wind_farm_losses_percent\" to \"turb_generic_loss\".\n",
      "/Users/mrossol/Git_Repos/reV/reV/SAM/version_checker.py:101: PySAMVersionWarning: It appears old SAM v1 keys are being used. Updated key \"wind_farm_losses_percent\" to \"turb_generic_loss\".\n",
      "  warn(m, PySAMVersionWarning)\n"
     ]
    },
    {
     "data": {
      "text/plain": [
       "array([[0.06 , 0.213, 0.265, 0.312, 0.83 , 0.827],\n",
       "       [0.14 , 0.364, 0.438, 0.613, 0.831, 0.833],\n",
       "       [0.023, 0.685, 0.371, 0.562, 0.833, 0.833],\n",
       "       ...,\n",
       "       [0.792, 0.589, 0.833, 0.833, 0.833, 0.833],\n",
       "       [0.833, 0.833, 0.832, 0.798, 0.833, 0.833],\n",
       "       [0.711, 0.827, 0.655, 0.19 , 0.833, 0.833]], dtype=float32)"
      ]
     },
     "metadata": {},
     "output_type": "display_data"
    }
   ],
   "source": [
    "import os\n",
    "import numpy as np\n",
    "from reV import TESTDATADIR\n",
    "from reV.config.project_points import ProjectPoints\n",
    "from reV.generation.generation import Gen\n",
    "\n",
    "lat_lons = np.array([[ 41.75, -73.66],\n",
    "                     [ 40.05, -73.74],\n",
    "                     [ 40.97, -73.78],\n",
    "                     [ 41.65, -73.74],\n",
    "                     [ 40.25, -73.7 ],\n",
    "                     [ 41.05, -73.78]])\n",
    "\n",
    "res_file = '/nrel/wtk/conus/wtk_conus_2012.h5'  # HSDS 'file' path\n",
    "sam_file = os.path.join(TESTDATADIR, 'SAM/wind_gen_standard_losses_0.json')\n",
    "\n",
    "pp = ProjectPoints.lat_lon_coords(lat_lons, res_file, sam_file)\n",
    "gen = Gen('windpower', pp, sam_file, res_file,\n",
    "          output_request=('cf_mean', 'cf_profile'))\n",
    "gen.run(max_workers=1)\n",
    "display(gen.out['cf_profile'])"
   ]
  },
  {
   "cell_type": "markdown",
   "metadata": {},
   "source": [
    "#### pvwatts\n",
    "\n",
    "NOTE: ``pvwattsv5`` and ``pvwattsv7`` are both available from reV.\n",
    "\n",
    "Compute pv mean capacity factors and mean levelized cost of energy for all resource gids in New York county New York:"
   ]
  },
  {
   "cell_type": "code",
   "execution_count": 4,
   "metadata": {},
   "outputs": [],
   "source": [
    "import os\n",
    "from reV import TESTDATADIR\n",
    "from reV.config.project_points import ProjectPoints\n",
    "from reV.generation.generation import Gen\n",
    "\n",
    "regions = {'New York': 'county'}\n",
    "\n",
    "res_file = '/nrel/nsrdb/v3/nsrdb_2012.h5'  # HSDS 'file' path\n",
    "sam_file = os.path.join(TESTDATADIR, 'SAM/naris_pv_1axis_inv13.json')\n",
    "\n",
    "pp = ProjectPoints.regions(regions, res_file, sam_file)\n",
    "gen = Gen('pvwattsv5', pp, sam_file, res_file,\n",
    "          output_request=('cf_mean', 'lcoe_fcr'))\n",
    "gen.run(max_workers=1)\n",
    "display(gen.out['cf_mean'])\n",
    "display(gen.out['lcoe_fcr'])"
   ]
  },
  {
   "cell_type": "markdown",
   "metadata": {},
   "source": [
    "## Running Econ from an existing Generation file\n",
    "\n",
    "While the most efficient way to run reV is to compute generation and econ outputs in SAM at the same time, reV can compute SAM derived Economic outputs from an existing reV Generation output stored in a .h5 file."
   ]
  },
  {
   "cell_type": "code",
   "execution_count": 7,
   "metadata": {},
   "outputs": [
    {
     "data": {
      "text/plain": [
       "array([136.10681 , 135.31549 , 131.49303 , 130.75429 , 130.75429 ,\n",
       "       130.02382 , 125.80684 , 126.49057 , 125.80684 , 125.130455,\n",
       "       126.49057 , 130.02382 , 125.80684 , 140.20642 , 139.36685 ,\n",
       "       129.30147 , 131.49303 , 130.75429 , 138.5373  , 138.5373  ,\n",
       "       130.75429 , 125.130455, 123.799286, 123.799286, 136.90744 ,\n",
       "       131.49303 , 131.49303 , 130.75429 , 129.30147 , 138.5373  ,\n",
       "       130.75429 , 130.02382 , 138.5373  , 131.49303 , 133.76015 ,\n",
       "       125.130455, 131.49303 , 123.799286, 138.5373  , 131.49303 ,\n",
       "       138.5373  , 125.130455, 123.799286, 130.75429 , 131.49303 ,\n",
       "       131.49303 , 130.75429 , 137.71754 , 138.5373  , 138.5373  ,\n",
       "       131.49303 , 129.30147 , 138.5373  , 137.71754 , 128.5871  ,\n",
       "       130.75429 , 125.80684 , 126.49057 , 126.49057 , 130.75429 ,\n",
       "       130.02382 , 125.80684 , 126.49057 , 130.02382 , 130.02382 ,\n",
       "       129.30147 , 133.76015 , 130.02382 , 131.49303 , 138.5373  ,\n",
       "       123.799286, 138.5373  , 124.4613  , 130.75429 , 130.75429 ,\n",
       "       125.80684 , 124.4613  , 137.71754 , 137.71754 , 137.71754 ,\n",
       "       125.130455, 130.75429 , 137.71754 , 137.71754 , 126.49057 ,\n",
       "       125.80684 , 126.49057 , 130.75429 , 130.02382 , 131.49303 ,\n",
       "       130.75429 , 132.9958  , 130.02382 , 136.10681 , 137.71754 ,\n",
       "       130.75429 , 137.71754 , 130.02382 , 131.49303 , 130.02382 ],\n",
       "      dtype=float32)"
      ]
     },
     "metadata": {},
     "output_type": "display_data"
    }
   ],
   "source": [
    "import os\n",
    "from reV import TESTDATADIR\n",
    "from reV.config.project_points import ProjectPoints\n",
    "from reV.econ.econ import Econ\n",
    "\n",
    "cf_file = os.path.join(TESTDATADIR,\n",
    "                       'gen_out/gen_ri_pv_2012_x000.h5')\n",
    "sam_files = os.path.join(TESTDATADIR,\n",
    "                         'SAM/i_lcoe_naris_pv_1axis_inv13.json')\n",
    "\n",
    "points = slice(0, 100)\n",
    "econ = Econ(points, sam_files, cf_file, output_request='lcoe_fcr',\n",
    "            sites_per_worker=25)\n",
    "econ.run(max_workers=1)\n",
    "display(econ.out['lcoe_fcr'])"
   ]
  },
  {
   "cell_type": "code",
   "execution_count": null,
   "metadata": {},
   "outputs": [],
   "source": []
  }
 ],
 "metadata": {
  "hide_input": false,
  "interpreter": {
   "hash": "00042bf9750b6ffb30d4088a6d823ac711a7e1a4c532fcac67d3c6ad4cbdcbe7"
  },
  "kernelspec": {
   "display_name": "Python 3",
   "language": "python",
   "name": "python3"
  },
  "language_info": {
   "codemirror_mode": {
    "name": "ipython",
    "version": 3
   },
   "file_extension": ".py",
   "mimetype": "text/x-python",
   "name": "python",
   "nbconvert_exporter": "python",
   "pygments_lexer": "ipython3",
   "version": "3.7.12"
  },
  "toc": {
   "base_numbering": 1,
   "nav_menu": {},
   "number_sections": true,
   "sideBar": true,
   "skip_h1_title": false,
   "title_cell": "Table of Contents",
   "title_sidebar": "Contents",
   "toc_cell": false,
   "toc_position": {},
   "toc_section_display": true,
   "toc_window_display": false
  },
  "varInspector": {
   "cols": {
    "lenName": 16,
    "lenType": 16,
    "lenVar": 40
   },
   "kernels_config": {
    "python": {
     "delete_cmd_postfix": "",
     "delete_cmd_prefix": "del ",
     "library": "var_list.py",
     "varRefreshCmd": "print(var_dic_list())"
    },
    "r": {
     "delete_cmd_postfix": ") ",
     "delete_cmd_prefix": "rm(",
     "library": "var_list.r",
     "varRefreshCmd": "cat(var_dic_list()) "
    }
   },
   "types_to_exclude": [
    "module",
    "function",
    "builtin_function_or_method",
    "instance",
    "_Feature"
   ],
   "window_display": false
  }
 },
 "nbformat": 4,
 "nbformat_minor": 4
}
