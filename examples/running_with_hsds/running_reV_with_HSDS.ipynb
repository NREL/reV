{
 "cells": [
  {
   "cell_type": "markdown",
   "metadata": {},
   "source": [
    "# How to run reV using HSDS\n",
    "## Running reV Gen+Econ\n",
    "\n",
    "[reV Gen](https://nrel.github.io/reV/_autosummary/reV.generation.generation.Gen.html#reV.generation.generation.Gen) and [reV Econ](https://nrel.github.io/reV/_autosummary/reV.econ.econ.Econ.html#reV.econ.econ.Econ) can be run locally using the [HDF Groups](https://www.hdfgroup.org) Highly Scalable Distributed Service (HSDS) to access resource .h5 file stored in the cloud (currenly on Amazon Web Services -- AWS).\n",
    "\n",
    "reV uses [PySAM](https://nrel-pysam.readthedocs.io/en/latest/) to\n",
    "compute technologically specific capcity factor means and profiles (`Gen`) and mean levelized cost of energy (`Econ`). `reV`\n",
    "uses ``SAM`` technology terms and input configuration files.\n",
    "\n",
    "\n",
    "NOTE: In all of these examples, the ``sam_file`` input points to files in\n",
    "the reV test directory [`TESTDATADIR`](https://github.com/NREL/reV/tree/main/tests/data) that may not be copied in your install. You may want to download the relevant SAM system configs from that directory and point the ``sam_file`` variable to the correct filepath on your computer."
   ]
  },
  {
   "cell_type": "markdown",
   "metadata": {},
   "source": [
    "### Using HSDS\n",
    "\n",
    "The Highly Scalable Distributed Service (HSDS) is a cloud optimized API to enable access to .h5 files hosted on [AWS](https://registry.opendata.aws). The HSDS software was developed by the [HDF Group](https://www.hdfgroup.org/) and is hosted on Amazon Web Services (AWS) using a combination of EC2 (Elastic Compute) and S3 (Scalable Storage Service). You can read more about the HSDS service [in this slide deck](https://www.slideshare.net/HDFEOS/hdf-cloud-services).\n",
    "\n",
    "\n",
    "#### Setting up HSDS\n",
    "\n",
    "To get started install the h5pyd library:\n",
    "\n",
    "```bash\n",
    "pip install h5pyd\n",
    "```\n",
    "\n",
    "Next, configure h5pyd by running ``hsconfigure`` from the command line, or by\n",
    "creating a configuration file at ``~/.hscfg``:\n",
    "\n",
    "```bash\n",
    "hsconfigure\n",
    "\n",
    "hs_endpoint = https://developer.nrel.gov/api/hsds\n",
    "hs_username =\n",
    "hs_password =\n",
    "hs_api_key = {YOUR_API_KEY_HERE}\n",
    "```\n",
    "\n",
    "To get your own API key, visit https://developer.nrel.gov/signup/\n",
    "\n",
    "Please note that our HSDS service is for demonstration purposes only. The API in the example above is hosted on an NREL server and will have limits on the amount of data you can access via HSDS. It is common to get an error: ``OSError: Error retrieving data: None errors`` if you attempt to access too much data or if the server is busy. Here are two references for scaling reV using HSDS and AWS:\n",
    "\n",
    "1. [Setup your own HSDS server on your personal computer](https://nrel.github.io/rex/misc/examples.hsds.html#)\n",
    "2. [Run reV on the AWS Parallel Cluster Infrastructure](https://nrel.github.io/reV/misc/examples.aws_pcluster.html)"
   ]
  },
  {
   "cell_type": "markdown",
   "metadata": {},
   "source": [
    "#### Using HSDS with reV\n",
    "\n",
    "Once h5pyd has been installed and configured, [rex](https://github.com/nrel/rex) can pull data directly from AWS using [HSDS](https://github.com/NREL/hsds-examples)\n",
    "\n",
    "To access the resource data used by reV (NSRDB or WTK) you have to turn on the\n",
    "``hsds`` flag in the `rex`'s [resource handlers](https://nrel.github.io/rex/rex/rex.renewable_resource.html):"
   ]
  },
  {
   "cell_type": "code",
   "execution_count": 1,
   "metadata": {},
   "outputs": [
    {
     "data": {
      "text/html": [
       "<div>\n",
       "<style scoped>\n",
       "    .dataframe tbody tr th:only-of-type {\n",
       "        vertical-align: middle;\n",
       "    }\n",
       "\n",
       "    .dataframe tbody tr th {\n",
       "        vertical-align: top;\n",
       "    }\n",
       "\n",
       "    .dataframe thead th {\n",
       "        text-align: right;\n",
       "    }\n",
       "</style>\n",
       "<table border=\"1\" class=\"dataframe\">\n",
       "  <thead>\n",
       "    <tr style=\"text-align: right;\">\n",
       "      <th></th>\n",
       "      <th>latitude</th>\n",
       "      <th>longitude</th>\n",
       "      <th>elevation</th>\n",
       "      <th>timezone</th>\n",
       "      <th>country</th>\n",
       "      <th>state</th>\n",
       "      <th>county</th>\n",
       "      <th>urban</th>\n",
       "      <th>population</th>\n",
       "      <th>landcover</th>\n",
       "    </tr>\n",
       "    <tr>\n",
       "      <th>gid</th>\n",
       "      <th></th>\n",
       "      <th></th>\n",
       "      <th></th>\n",
       "      <th></th>\n",
       "      <th></th>\n",
       "      <th></th>\n",
       "      <th></th>\n",
       "      <th></th>\n",
       "      <th></th>\n",
       "      <th></th>\n",
       "    </tr>\n",
       "  </thead>\n",
       "  <tbody>\n",
       "    <tr>\n",
       "      <th>0</th>\n",
       "      <td>-19.99</td>\n",
       "      <td>-175.259995</td>\n",
       "      <td>0.0</td>\n",
       "      <td>13</td>\n",
       "      <td>None</td>\n",
       "      <td>None</td>\n",
       "      <td>None</td>\n",
       "      <td>None</td>\n",
       "      <td>-9999</td>\n",
       "      <td>210</td>\n",
       "    </tr>\n",
       "    <tr>\n",
       "      <th>1</th>\n",
       "      <td>-19.99</td>\n",
       "      <td>-175.220001</td>\n",
       "      <td>0.0</td>\n",
       "      <td>13</td>\n",
       "      <td>None</td>\n",
       "      <td>None</td>\n",
       "      <td>None</td>\n",
       "      <td>None</td>\n",
       "      <td>-9999</td>\n",
       "      <td>210</td>\n",
       "    </tr>\n",
       "    <tr>\n",
       "      <th>2</th>\n",
       "      <td>-19.99</td>\n",
       "      <td>-175.179993</td>\n",
       "      <td>0.0</td>\n",
       "      <td>13</td>\n",
       "      <td>None</td>\n",
       "      <td>None</td>\n",
       "      <td>None</td>\n",
       "      <td>None</td>\n",
       "      <td>-9999</td>\n",
       "      <td>210</td>\n",
       "    </tr>\n",
       "    <tr>\n",
       "      <th>3</th>\n",
       "      <td>-19.99</td>\n",
       "      <td>-175.139999</td>\n",
       "      <td>0.0</td>\n",
       "      <td>13</td>\n",
       "      <td>None</td>\n",
       "      <td>None</td>\n",
       "      <td>None</td>\n",
       "      <td>None</td>\n",
       "      <td>-9999</td>\n",
       "      <td>210</td>\n",
       "    </tr>\n",
       "    <tr>\n",
       "      <th>4</th>\n",
       "      <td>-19.99</td>\n",
       "      <td>-175.100006</td>\n",
       "      <td>0.0</td>\n",
       "      <td>13</td>\n",
       "      <td>None</td>\n",
       "      <td>None</td>\n",
       "      <td>None</td>\n",
       "      <td>None</td>\n",
       "      <td>-9999</td>\n",
       "      <td>210</td>\n",
       "    </tr>\n",
       "  </tbody>\n",
       "</table>\n",
       "</div>"
      ],
      "text/plain": [
       "     latitude   longitude  elevation  timezone country state county urban  \\\n",
       "gid                                                                         \n",
       "0      -19.99 -175.259995        0.0        13    None  None   None  None   \n",
       "1      -19.99 -175.220001        0.0        13    None  None   None  None   \n",
       "2      -19.99 -175.179993        0.0        13    None  None   None  None   \n",
       "3      -19.99 -175.139999        0.0        13    None  None   None  None   \n",
       "4      -19.99 -175.100006        0.0        13    None  None   None  None   \n",
       "\n",
       "     population  landcover  \n",
       "gid                         \n",
       "0         -9999        210  \n",
       "1         -9999        210  \n",
       "2         -9999        210  \n",
       "3         -9999        210  \n",
       "4         -9999        210  "
      ]
     },
     "metadata": {},
     "output_type": "display_data"
    },
    {
     "data": {
      "text/plain": [
       "DatetimeIndex(['2013-01-01 00:00:00+00:00', '2013-01-01 00:30:00+00:00',\n",
       "               '2013-01-01 01:00:00+00:00', '2013-01-01 01:30:00+00:00',\n",
       "               '2013-01-01 02:00:00+00:00', '2013-01-01 02:30:00+00:00',\n",
       "               '2013-01-01 03:00:00+00:00', '2013-01-01 03:30:00+00:00',\n",
       "               '2013-01-01 04:00:00+00:00', '2013-01-01 04:30:00+00:00',\n",
       "               ...\n",
       "               '2013-12-31 19:00:00+00:00', '2013-12-31 19:30:00+00:00',\n",
       "               '2013-12-31 20:00:00+00:00', '2013-12-31 20:30:00+00:00',\n",
       "               '2013-12-31 21:00:00+00:00', '2013-12-31 21:30:00+00:00',\n",
       "               '2013-12-31 22:00:00+00:00', '2013-12-31 22:30:00+00:00',\n",
       "               '2013-12-31 23:00:00+00:00', '2013-12-31 23:30:00+00:00'],\n",
       "              dtype='datetime64[ns, UTC]', length=17520, freq=None)"
      ]
     },
     "metadata": {},
     "output_type": "display_data"
    }
   ],
   "source": [
    "import rex\n",
    "from rex import init_logger\n",
    "\n",
    "init_logger('reV', log_level='INFO')\n",
    "\n",
    "nsrdb_file = '/nrel/nsrdb/v3/nsrdb_2013.h5'\n",
    "with rex.Resource(nsrdb_file, hsds=True) as f:\n",
    "    meta = f.meta\n",
    "    time_index = f.time_index\n",
    "\n",
    "display(meta.head())\n",
    "display(time_index)"
   ]
  },
  {
   "cell_type": "markdown",
   "metadata": {},
   "source": [
    "#### windpower\n",
    "\n",
    "Compute wind capacity factors for a given set of latitude and longitude\n",
    "coordinates:"
   ]
  },
  {
   "cell_type": "code",
   "execution_count": 2,
   "metadata": {},
   "outputs": [
    {
     "name": "stdout",
     "output_type": "stream",
     "text": [
      "INFO - 2021-09-21 14:56:33,065 [project_points.py:882] : Converting latitude longitude coordinates into nearest ProjectPoints\n"
     ]
    },
    {
     "name": "stderr",
     "output_type": "stream",
     "text": [
      "INFO:reV.config.project_points:Converting latitude longitude coordinates into nearest ProjectPoints\n"
     ]
    },
    {
     "name": "stdout",
     "output_type": "stream",
     "text": [
      "WARNING - 2021-09-21 14:56:48,482 [project_points.py:580] : WARNING: points are not in sequential order and will be sorted! The original order is being preserved under column \"points_order\"\n"
     ]
    },
    {
     "name": "stderr",
     "output_type": "stream",
     "text": [
      "WARNING:reV.config.project_points:WARNING: points are not in sequential order and will be sorted! The original order is being preserved under column \"points_order\"\n"
     ]
    },
    {
     "name": "stdout",
     "output_type": "stream",
     "text": [
      "INFO - 2021-09-21 14:56:48,493 [__init__.py:20] : Running with reV version 0.5.9\n"
     ]
    },
    {
     "name": "stderr",
     "output_type": "stream",
     "text": [
      "/home/gbuster/code/reV/reV/config/project_points.py:581: UserWarning: WARNING: points are not in sequential order and will be sorted! The original order is being preserved under column \"points_order\"\n",
      "  warn(msg)\n",
      "INFO:reV.generation.base:Running with reV version 0.5.9\n"
     ]
    },
    {
     "name": "stdout",
     "output_type": "stream",
     "text": [
      "INFO - 2021-09-21 14:56:48,496 [loggers.py:600] : Running with rex version 0.2.64\n"
     ]
    },
    {
     "name": "stderr",
     "output_type": "stream",
     "text": [
      "INFO:reV.generation.base:Running with rex version 0.2.64\n"
     ]
    },
    {
     "name": "stdout",
     "output_type": "stream",
     "text": [
      "WARNING - 2021-09-21 14:56:48,534 [version_checker.py:100] : It appears old SAM v1 keys are being used. Updated key \"wind_farm_losses_percent\" to \"turb_generic_loss\".\n"
     ]
    },
    {
     "name": "stderr",
     "output_type": "stream",
     "text": [
      "WARNING:reV.SAM.version_checker:It appears old SAM v1 keys are being used. Updated key \"wind_farm_losses_percent\" to \"turb_generic_loss\".\n",
      "/home/gbuster/code/reV/reV/SAM/version_checker.py:101: PySAMVersionWarning: It appears old SAM v1 keys are being used. Updated key \"wind_farm_losses_percent\" to \"turb_generic_loss\".\n",
      "  warn(m, PySAMVersionWarning)\n"
     ]
    },
    {
     "name": "stdout",
     "output_type": "stream",
     "text": [
      "INFO - 2021-09-21 14:56:51,731 [base.py:212] : Output results from a single site are calculated to use 0.0 KB of memory.\n"
     ]
    },
    {
     "name": "stderr",
     "output_type": "stream",
     "text": [
      "INFO:reV.generation.base:Output results from a single site are calculated to use 0.0 KB of memory.\n"
     ]
    },
    {
     "name": "stdout",
     "output_type": "stream",
     "text": [
      "INFO - 2021-09-21 14:56:51,737 [base.py:179] : Limited to storing 190413 sites in memory (8.3 GB total hardware, 3.3 GB available with 40.0% utilization).\n"
     ]
    },
    {
     "name": "stderr",
     "output_type": "stream",
     "text": [
      "INFO:reV.generation.base:Limited to storing 190413 sites in memory (8.3 GB total hardware, 3.3 GB available with 40.0% utilization).\n"
     ]
    },
    {
     "name": "stdout",
     "output_type": "stream",
     "text": [
      "INFO - 2021-09-21 14:56:51,741 [base.py:959] : Initializing in-memory outputs for 6 sites with gids 2297790 through 2320057 inclusive (site list index 0 through 5)\n"
     ]
    },
    {
     "name": "stderr",
     "output_type": "stream",
     "text": [
      "INFO:reV.generation.base:Initializing in-memory outputs for 6 sites with gids 2297790 through 2320057 inclusive (site list index 0 through 5)\n"
     ]
    },
    {
     "name": "stdout",
     "output_type": "stream",
     "text": [
      "INFO - 2021-09-21 14:56:51,753 [generation.py:536] : Running reV generation for: PointsControl for sites 2297790 through 2320057\n"
     ]
    },
    {
     "name": "stderr",
     "output_type": "stream",
     "text": [
      "INFO:reV.generation.generation:Running reV generation for: PointsControl for sites 2297790 through 2320057\n"
     ]
    },
    {
     "name": "stdout",
     "output_type": "stream",
     "text": [
      "INFO - 2021-09-21 14:57:55,032 [generation.py:550] : Finished reV gen serial compute for: PointsControl for sites 2297790 through 2320057\n"
     ]
    },
    {
     "name": "stderr",
     "output_type": "stream",
     "text": [
      "INFO:reV.generation.generation:Finished reV gen serial compute for: PointsControl for sites 2297790 through 2320057\n"
     ]
    },
    {
     "data": {
      "text/plain": [
       "array([[0.06 , 0.213, 0.265, 0.312, 0.83 , 0.827],\n",
       "       [0.14 , 0.364, 0.438, 0.613, 0.831, 0.833],\n",
       "       [0.023, 0.685, 0.371, 0.562, 0.833, 0.833],\n",
       "       ...,\n",
       "       [0.792, 0.589, 0.833, 0.833, 0.833, 0.833],\n",
       "       [0.833, 0.833, 0.832, 0.798, 0.833, 0.833],\n",
       "       [0.711, 0.827, 0.655, 0.19 , 0.833, 0.833]], dtype=float32)"
      ]
     },
     "metadata": {},
     "output_type": "display_data"
    }
   ],
   "source": [
    "import os\n",
    "import numpy as np\n",
    "from reV import TESTDATADIR\n",
    "from reV.config.project_points import ProjectPoints\n",
    "from reV.generation.generation import Gen\n",
    "\n",
    "lat_lons = np.array([[ 41.75, -73.66],\n",
    "                     [ 40.05, -73.74],\n",
    "                     [ 40.97, -73.78],\n",
    "                     [ 41.65, -73.74],\n",
    "                     [ 40.25, -73.7 ],\n",
    "                     [ 41.05, -73.78]])\n",
    "\n",
    "res_file = '/nrel/wtk/conus/wtk_conus_2012.h5'  # HSDS 'file' path\n",
    "sam_file = os.path.join(TESTDATADIR, 'SAM/wind_gen_standard_losses_0.json')\n",
    "\n",
    "pp = ProjectPoints.lat_lon_coords(lat_lons, res_file, sam_file)\n",
    "gen = Gen('windpower', pp, sam_file, res_file,\n",
    "          output_request=('cf_mean', 'cf_profile'))\n",
    "gen.run(max_workers=1)\n",
    "display(gen.out['cf_profile'])"
   ]
  },
  {
   "cell_type": "markdown",
   "metadata": {
    "tags": []
   },
   "source": [
    "#### pvwatts\n",
    "\n",
    "NOTE: ``pvwattsv5`` and ``pvwattsv7`` are both available from reV.\n",
    "\n",
    "Compute pv mean capacity factors and mean levelized cost of energy for all resource gids in New York county New York:"
   ]
  },
  {
   "cell_type": "code",
   "execution_count": 3,
   "metadata": {},
   "outputs": [
    {
     "name": "stdout",
     "output_type": "stream",
     "text": [
      "INFO - 2021-09-21 14:57:56,068 [project_points.py:964] : Extracting ProjectPoints for desired regions\n"
     ]
    },
    {
     "name": "stderr",
     "output_type": "stream",
     "text": [
      "INFO:reV.config.project_points:Extracting ProjectPoints for desired regions\n"
     ]
    },
    {
     "name": "stdout",
     "output_type": "stream",
     "text": [
      "INFO - 2021-09-21 14:58:20,158 [__init__.py:20] : Running with reV version 0.5.9\n"
     ]
    },
    {
     "name": "stderr",
     "output_type": "stream",
     "text": [
      "INFO:reV.generation.base:Running with reV version 0.5.9\n"
     ]
    },
    {
     "name": "stdout",
     "output_type": "stream",
     "text": [
      "INFO - 2021-09-21 14:58:20,165 [loggers.py:600] : Running with rex version 0.2.64\n"
     ]
    },
    {
     "name": "stderr",
     "output_type": "stream",
     "text": [
      "INFO:reV.generation.base:Running with rex version 0.2.64\n"
     ]
    },
    {
     "name": "stdout",
     "output_type": "stream",
     "text": [
      "INFO - 2021-09-21 14:58:21,245 [base.py:212] : Output results from a single site are calculated to use 0.0 KB of memory.\n"
     ]
    },
    {
     "name": "stderr",
     "output_type": "stream",
     "text": [
      "INFO:reV.generation.base:Output results from a single site are calculated to use 0.0 KB of memory.\n"
     ]
    },
    {
     "name": "stdout",
     "output_type": "stream",
     "text": [
      "INFO - 2021-09-21 14:58:21,248 [base.py:179] : Limited to storing 336410756 sites in memory (8.3 GB total hardware, 3.3 GB available with 40.0% utilization).\n"
     ]
    },
    {
     "name": "stderr",
     "output_type": "stream",
     "text": [
      "INFO:reV.generation.base:Limited to storing 336410756 sites in memory (8.3 GB total hardware, 3.3 GB available with 40.0% utilization).\n"
     ]
    },
    {
     "name": "stdout",
     "output_type": "stream",
     "text": [
      "INFO - 2021-09-21 14:58:21,251 [base.py:959] : Initializing in-memory outputs for 4 sites with gids 1142275 through 1144648 inclusive (site list index 0 through 3)\n"
     ]
    },
    {
     "name": "stderr",
     "output_type": "stream",
     "text": [
      "INFO:reV.generation.base:Initializing in-memory outputs for 4 sites with gids 1142275 through 1144648 inclusive (site list index 0 through 3)\n"
     ]
    },
    {
     "name": "stdout",
     "output_type": "stream",
     "text": [
      "INFO - 2021-09-21 14:58:21,254 [generation.py:536] : Running reV generation for: PointsControl for sites 1142275 through 1144648\n"
     ]
    },
    {
     "name": "stderr",
     "output_type": "stream",
     "text": [
      "INFO:reV.generation.generation:Running reV generation for: PointsControl for sites 1142275 through 1144648\n"
     ]
    },
    {
     "name": "stdout",
     "output_type": "stream",
     "text": [
      "INFO - 2021-09-21 14:59:40,957 [generation.py:550] : Finished reV gen serial compute for: PointsControl for sites 1142275 through 1144648\n"
     ]
    },
    {
     "name": "stderr",
     "output_type": "stream",
     "text": [
      "INFO:reV.generation.generation:Finished reV gen serial compute for: PointsControl for sites 1142275 through 1144648\n"
     ]
    },
    {
     "data": {
      "text/plain": [
       "array([0.18077604, 0.17945854, 0.18129802, 0.17552263], dtype=float32)"
      ]
     },
     "metadata": {},
     "output_type": "display_data"
    },
    {
     "data": {
      "text/plain": [
       "array([128.7464 , 129.6916 , 128.37573, 132.59981], dtype=float32)"
      ]
     },
     "metadata": {},
     "output_type": "display_data"
    }
   ],
   "source": [
    "import os\n",
    "from reV import TESTDATADIR\n",
    "from reV.config.project_points import ProjectPoints\n",
    "from reV.generation.generation import Gen\n",
    "\n",
    "regions = {'Arlington': 'county'}\n",
    "\n",
    "res_file = '/nrel/nsrdb/v3/nsrdb_2012.h5'  # HSDS 'file' path\n",
    "sam_file = os.path.join(TESTDATADIR, 'SAM/naris_pv_1axis_inv13.json')\n",
    "\n",
    "pp = ProjectPoints.regions(regions, res_file, sam_file)\n",
    "gen = Gen('pvwattsv5', pp, sam_file, res_file,\n",
    "          output_request=('cf_mean', 'lcoe_fcr'))\n",
    "gen.run(max_workers=1)\n",
    "display(gen.out['cf_mean'])\n",
    "display(gen.out['lcoe_fcr'])"
   ]
  },
  {
   "cell_type": "code",
   "execution_count": null,
   "metadata": {},
   "outputs": [],
   "source": []
  }
 ],
 "metadata": {
  "interpreter": {
   "hash": "00042bf9750b6ffb30d4088a6d823ac711a7e1a4c532fcac67d3c6ad4cbdcbe7"
  },
  "kernelspec": {
   "display_name": "Python 3 (ipykernel)",
   "language": "python",
   "name": "python3"
  },
  "language_info": {
   "codemirror_mode": {
    "name": "ipython",
    "version": 3
   },
   "file_extension": ".py",
   "mimetype": "text/x-python",
   "name": "python",
   "nbconvert_exporter": "python",
   "pygments_lexer": "ipython3",
   "version": "3.9.10"
  }
 },
 "nbformat": 4,
 "nbformat_minor": 4
}
