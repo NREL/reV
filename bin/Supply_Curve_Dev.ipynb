{
 "cells": [
  {
   "cell_type": "code",
   "execution_count": 1,
   "metadata": {
    "ExecuteTime": {
     "end_time": "2019-09-16T18:44:05.869156Z",
     "start_time": "2019-09-16T18:44:05.391067Z"
    }
   },
   "outputs": [],
   "source": [
    "import json\n",
    "import numpy as np\n",
    "import os\n",
    "import pandas as pd\n",
    "import time\n",
    "\n",
    "cwd = os.getcwd()\n",
    "pkg_dir = os.path.dirname(cwd)\n",
    "data_dir = os.path.join(pkg_dir, 'tests/data')\n",
    "\n",
    "from reV.handlers.transmission import TransmissionFeatures\n",
    "from reV.supply_curve.supply_curve import SupplyCurve"
   ]
  },
  {
   "cell_type": "code",
   "execution_count": 2,
   "metadata": {
    "ExecuteTime": {
     "end_time": "2019-09-16T18:44:05.961940Z",
     "start_time": "2019-09-16T18:44:05.873004Z"
    }
   },
   "outputs": [],
   "source": [
    "path = os.path.join(data_dir, 'sc_tables', '2_ri_agg_points_cache_064_sj_infsink.csv')\n",
    "sc_table = pd.read_csv(path)\n",
    "\n",
    "sc_gids = sc_table[['sc_point_gid', 'sc_point_row_id', 'sc_point_col_id']]\n",
    "sc_gids = sc_gids.rename(columns={'sc_point_gid': 'gid',\n",
    "                                  'sc_point_row_id': 'sc_row_ind',\n",
    "                                  'sc_point_col_id': 'sc_col_ind'})\n",
    "\n",
    "path = os.path.join(data_dir, 'sc_tables', '5_ri_subset_rural_pv_conus_multiyear.csv')\n",
    "sc_results = pd.read_csv(path)\n",
    "sc_results = sc_results.merge(sc_gids, on='gid')\n",
    "\n",
    "path = os.path.join(data_dir, 'sc_out', 'baseline_agg_summary.csv')\n",
    "sc_points = pd.read_csv(path).rename(columns={'sc_gid': 'sc_point_gid'})\n",
    "sc_points['sc_gid'] = sc_points.index\n",
    "sc_points['mean_lcoe'] = 0"
   ]
  },
  {
   "cell_type": "code",
   "execution_count": 3,
   "metadata": {
    "ExecuteTime": {
     "end_time": "2019-09-16T18:44:09.664034Z",
     "start_time": "2019-09-16T18:44:05.987451Z"
    }
   },
   "outputs": [
    {
     "name": "stdout",
     "output_type": "stream",
     "text": [
      "Full Supply Curve = 2.5595 seconds\n",
      "Simple Supply Curve 1.1066 seconds\n"
     ]
    }
   ],
   "source": [
    "# Full sort\n",
    "ts = time.time()\n",
    "sc_full = SupplyCurve.full(sc_points, sc_table, fcr=0.096, connectable=False)\n",
    "print('Full Supply Curve = {:.4f} seconds'.format(time.time() - ts))\n",
    "\n",
    "# Simple\n",
    "ts = time.time()\n",
    "sc_simple = SupplyCurve.simple(sc_points, sc_table, fcr=0.096)\n",
    "print('Simple Supply Curve {:.4f} seconds'.format(time.time() - ts))\n"
   ]
  },
  {
   "cell_type": "code",
   "execution_count": null,
   "metadata": {},
   "outputs": [],
   "source": []
  }
 ],
 "metadata": {
  "kernelspec": {
   "display_name": "Python [conda env:rev]",
   "language": "python",
   "name": "conda-env-rev-py"
  },
  "language_info": {
   "codemirror_mode": {
    "name": "ipython",
    "version": 3
   },
   "file_extension": ".py",
   "mimetype": "text/x-python",
   "name": "python",
   "nbconvert_exporter": "python",
   "pygments_lexer": "ipython3",
   "version": "3.7.4"
  }
 },
 "nbformat": 4,
 "nbformat_minor": 2
}
