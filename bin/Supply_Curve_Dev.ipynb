{
 "cells": [
  {
   "cell_type": "code",
   "execution_count": 1,
   "metadata": {
    "ExecuteTime": {
     "end_time": "2019-09-12T21:07:49.709526Z",
     "start_time": "2019-09-12T21:07:48.979709Z"
    }
   },
   "outputs": [],
   "source": [
    "import json\n",
    "import numpy as np\n",
    "import os\n",
    "import pandas as pd\n",
    "\n",
    "cwd = os.getcwd()\n",
    "pkg_dir = os.path.dirname(cwd)\n",
    "data_dir = os.path.join(pkg_dir, 'tests/data')\n",
    "\n",
    "from reV.handlers.transmission import TransmissionFeatures\n",
    "from reV.supply_curve.supply_curve import SupplyCurve"
   ]
  },
  {
   "cell_type": "code",
   "execution_count": 23,
   "metadata": {
    "ExecuteTime": {
     "end_time": "2019-09-12T21:14:13.367563Z",
     "start_time": "2019-09-12T21:14:11.927891Z"
    }
   },
   "outputs": [],
   "source": [
    "path = os.path.join(data_dir, 'sc_tables', '2_ri_agg_points_cache_064_sj_infsink.csv')\n",
    "sc_table = pd.read_csv(path)\n",
    "\n",
    "trans_feats = TransmissionFeatures(sc_table)\n",
    "\n",
    "path = os.path.join(data_dir, 'sc_out', 'baseline_agg_summary.csv')\n",
    "sc_points = pd.read_csv(path).rename(columns={'sc_gid': 'sc_point_gid'})\n",
    "sc_points['sc_gid'] = sc_points.index\n",
    "\n",
    "sc = SupplyCurve(sc_points, sc_table)\n"
   ]
  },
  {
   "cell_type": "code",
   "execution_count": 24,
   "metadata": {
    "ExecuteTime": {
     "end_time": "2019-09-12T21:14:15.182491Z",
     "start_time": "2019-09-12T21:14:13.373583Z"
    }
   },
   "outputs": [
    {
     "name": "stdout",
     "output_type": "stream",
     "text": [
      "connecting sc point 27 to feature 80849\n",
      "connecting sc point 38 to feature 68948\n",
      "connecting sc point 47 to feature 68948\n",
      "connecting sc point 56 to feature 68942\n",
      "connecting sc point 4 to feature 68810\n",
      "connecting sc point 59 to feature 68942\n",
      "connecting sc point 3 to feature 68810\n",
      "connecting sc point 126 to feature 68947\n",
      "connecting sc point 6 to feature 68867\n",
      "connecting sc point 1 to feature 68810\n",
      "connecting sc point 9 to feature 43428\n",
      "connecting sc point 136 to feature 68927\n",
      "connecting sc point 92 to feature 68927\n",
      "connecting sc point 0 to feature 43451\n",
      "connecting sc point 68 to feature 80843\n",
      "connecting sc point 58 to feature 80843\n",
      "connecting sc point 14 to feature 68867\n",
      "connecting sc point 29 to feature 80843\n",
      "connecting sc point 80 to feature 80843\n",
      "connecting sc point 134 to feature 68927\n",
      "connecting sc point 32 to feature 68867\n",
      "connecting sc point 57 to feature 80843\n",
      "connecting sc point 69 to feature 80843\n",
      "connecting sc point 94 to feature 80843\n",
      "connecting sc point 46 to feature 80843\n",
      "connecting sc point 55 to feature 80843\n",
      "connecting sc point 118 to feature 80843\n",
      "connecting sc point 82 to feature 80843\n",
      "connecting sc point 140 to feature 80843\n",
      "connecting sc point 73 to feature 80843\n",
      "connecting sc point 48 to feature 80843\n",
      "connecting sc point 142 to feature 80843\n",
      "connecting sc point 81 to feature 80843\n",
      "connecting sc point 31 to feature 80843\n",
      "connecting sc point 12 to feature 80843\n",
      "connecting sc point 49 to feature 80843\n",
      "connecting sc point 72 to feature 80843\n",
      "connecting sc point 67 to feature 80843\n",
      "connecting sc point 19 to feature 80843\n",
      "connecting sc point 21 to feature 80843\n",
      "connecting sc point 70 to feature 80843\n",
      "connecting sc point 10 to feature 80843\n",
      "connecting sc point 83 to feature 80843\n",
      "connecting sc point 40 to feature 80843\n",
      "connecting sc point 66 to feature 80843\n",
      "connecting sc point 30 to feature 80843\n",
      "connecting sc point 54 to feature 80843\n",
      "connecting sc point 138 to feature 80843\n",
      "connecting sc point 45 to feature 80843\n",
      "connecting sc point 20 to feature 80843\n",
      "connecting sc point 86 to feature 80843\n",
      "connecting sc point 36 to feature 80843\n",
      "connecting sc point 37 to feature 80843\n",
      "connecting sc point 95 to feature 80843\n",
      "connecting sc point 60 to feature 80843\n",
      "connecting sc point 50 to feature 80843\n",
      "connecting sc point 44 to feature 80843\n",
      "connecting sc point 39 to feature 80843\n",
      "connecting sc point 74 to feature 80843\n",
      "connecting sc point 25 to feature 80843\n",
      "connecting sc point 87 to feature 80843\n",
      "connecting sc point 11 to feature 80843\n",
      "connecting sc point 65 to feature 80843\n",
      "connecting sc point 117 to feature 80843\n",
      "connecting sc point 26 to feature 80843\n",
      "connecting sc point 53 to feature 80843\n",
      "connecting sc point 2 to feature 80843\n",
      "connecting sc point 61 to feature 80843\n",
      "connecting sc point 41 to feature 80843\n",
      "connecting sc point 116 to feature 80843\n",
      "connecting sc point 43 to feature 80843\n",
      "connecting sc point 98 to feature 80843\n",
      "connecting sc point 75 to feature 80843\n",
      "connecting sc point 7 to feature 80843\n",
      "connecting sc point 52 to feature 80843\n",
      "connecting sc point 35 to feature 80843\n",
      "connecting sc point 84 to feature 80843\n",
      "connecting sc point 96 to feature 80843\n",
      "connecting sc point 71 to feature 80843\n",
      "connecting sc point 106 to feature 80843\n",
      "connecting sc point 110 to feature 80843\n",
      "connecting sc point 28 to feature 80843\n",
      "connecting sc point 24 to feature 80843\n",
      "connecting sc point 18 to feature 80843\n",
      "connecting sc point 77 to feature 80843\n",
      "connecting sc point 8 to feature 80843\n",
      "connecting sc point 63 to feature 80843\n",
      "connecting sc point 5 to feature 80843\n",
      "connecting sc point 109 to feature 80843\n",
      "connecting sc point 135 to feature 80843\n",
      "connecting sc point 99 to feature 80843\n",
      "connecting sc point 79 to feature 80843\n",
      "connecting sc point 78 to feature 80843\n",
      "connecting sc point 105 to feature 80843\n",
      "connecting sc point 90 to feature 80843\n",
      "connecting sc point 16 to feature 80843\n",
      "connecting sc point 17 to feature 80843\n",
      "connecting sc point 64 to feature 80843\n",
      "connecting sc point 120 to feature 80843\n",
      "connecting sc point 119 to feature 80843\n",
      "connecting sc point 85 to feature 80843\n",
      "connecting sc point 34 to feature 80843\n",
      "connecting sc point 15 to feature 80843\n",
      "connecting sc point 76 to feature 80843\n",
      "connecting sc point 89 to feature 80843\n",
      "connecting sc point 23 to feature 80843\n",
      "connecting sc point 33 to feature 80843\n",
      "connecting sc point 104 to feature 80843\n",
      "connecting sc point 91 to feature 80843\n",
      "connecting sc point 107 to feature 80843\n",
      "connecting sc point 13 to feature 80843\n",
      "connecting sc point 22 to feature 80843\n",
      "connecting sc point 88 to feature 80843\n",
      "connecting sc point 93 to feature 80843\n",
      "connecting sc point 62 to feature 80843\n",
      "connecting sc point 103 to feature 80843\n",
      "connecting sc point 130 to feature 80843\n",
      "connecting sc point 51 to feature 80843\n",
      "connecting sc point 133 to feature 80843\n",
      "connecting sc point 97 to feature 80843\n",
      "connecting sc point 115 to feature 80843\n",
      "connecting sc point 42 to feature 80843\n",
      "connecting sc point 131 to feature 80843\n",
      "connecting sc point 129 to feature 80843\n",
      "connecting sc point 102 to feature 80843\n",
      "connecting sc point 101 to feature 80843\n",
      "connecting sc point 100 to feature 80843\n",
      "connecting sc point 112 to feature 80843\n",
      "connecting sc point 111 to feature 80843\n",
      "connecting sc point 132 to feature 80843\n",
      "connecting sc point 108 to feature 80843\n",
      "connecting sc point 114 to feature 80843\n",
      "connecting sc point 125 to feature 80843\n",
      "connecting sc point 113 to feature 80843\n",
      "connecting sc point 139 to feature 80843\n",
      "connecting sc point 141 to feature 80843\n",
      "connecting sc point 121 to feature 80843\n",
      "connecting sc point 123 to feature 80843\n",
      "connecting sc point 122 to feature 80843\n",
      "connecting sc point 124 to feature 80843\n",
      "connecting sc point 128 to feature 80843\n",
      "connecting sc point 137 to feature 80843\n",
      "connecting sc point 127 to feature 80843\n"
     ]
    }
   ],
   "source": [
    "for _, row in sc._sc_table.sort_values('lcot').iterrows():\n",
    "    try:\n",
    "        sc_gid = row['sc_gid']\n",
    "        if sc._mask.loc[sc_gid, 'empty']:\n",
    "            connect = sc._trans_features.connect(row['trans_line_gid'], row['capacity'])\n",
    "            if connect:\n",
    "                print('connecting sc point {} to feature {}'.format(sc_gid, row['trans_line_gid']))\n",
    "                sc._mask.loc[sc_gid, 'empty'] = False\n",
    "                cols = ['trans_gid', 'trans_type']\n",
    "                sc._sc_points.at[sc_gid, 'trans_gid'] = row['trans_line_gid']\n",
    "                sc._sc_points.at[sc_gid, 'trans_type'] = row['category']\n",
    "                sc._sc_points.at[sc_gid, 'lcot'] = row['lcot']\n",
    "    except Exception:\n",
    "        print(row)\n",
    "        raise"
   ]
  },
  {
   "cell_type": "code",
   "execution_count": 26,
   "metadata": {
    "ExecuteTime": {
     "end_time": "2019-09-12T21:17:11.922763Z",
     "start_time": "2019-09-12T21:17:11.914305Z"
    }
   },
   "outputs": [
    {
     "data": {
      "text/plain": [
       "{'type': 'PCALoadCen', 'avail_cap': None}"
      ]
     },
     "execution_count": 26,
     "metadata": {},
     "output_type": "execute_result"
    }
   ],
   "source": [
    "sc._trans_features._features[80843]"
   ]
  },
  {
   "cell_type": "code",
   "execution_count": null,
   "metadata": {},
   "outputs": [],
   "source": []
  }
 ],
 "metadata": {
  "kernelspec": {
   "display_name": "Python [conda env:rev]",
   "language": "python",
   "name": "conda-env-rev-py"
  },
  "language_info": {
   "codemirror_mode": {
    "name": "ipython",
    "version": 3
   },
   "file_extension": ".py",
   "mimetype": "text/x-python",
   "name": "python",
   "nbconvert_exporter": "python",
   "pygments_lexer": "ipython3",
   "version": "3.7.4"
  }
 },
 "nbformat": 4,
 "nbformat_minor": 2
}
