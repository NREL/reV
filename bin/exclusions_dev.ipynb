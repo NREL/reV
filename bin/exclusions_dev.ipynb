{
 "cells": [
  {
   "cell_type": "code",
   "execution_count": 6,
   "metadata": {
    "ExecuteTime": {
     "end_time": "2019-10-17T20:42:50.049381Z",
     "start_time": "2019-10-17T20:42:50.037307Z"
    }
   },
   "outputs": [],
   "source": [
    "import h5py\n",
    "import json\n",
    "import numpy as np\n",
    "import os\n",
    "import pandas as pd\n",
    "\n",
    "from reV.handlers.exclusions import ExclusionLayers\n",
    "from reVX.handlers.geotiff import Geotiff\n",
    "from reVX.utilities.exclusions_converter import ExclusionsConverter\n",
    "from reVX.utilities.loggers import setup_logger\n",
    "\n",
    "data_dir = os.path.join('/Users/mrossol/Git_Repos/reVX/tests/data/ri_exclusions')\n",
    "\n",
    "layers = [os.path.join(data_dir, f) for f in os.listdir(data_dir)\n",
    "          if f.startswith('ri') and f.endswith('.tif')]\n",
    "excl_h5 = '/Users/mrossol/Git_Repos/reV/tests/data/ri_exclusions/ri_exclusions.h5'\n",
    "\n",
    "logger = setup_logger('reVX', log_level='DEBUG')"
   ]
  },
  {
   "cell_type": "code",
   "execution_count": 7,
   "metadata": {
    "ExecuteTime": {
     "end_time": "2019-10-17T20:42:51.109762Z",
     "start_time": "2019-10-17T20:42:50.747774Z"
    }
   },
   "outputs": [],
   "source": [
    "with Geotiff(layers[1]) as f:\n",
    "    tiff_profile = f.profile\n",
    "    tiff_meta = f.meta\n",
    "    \n",
    "tiff_profile\n",
    "tiff_crs = {k: v for k, v in [i.split(\"=\") for i in tiff_profile['crs'].split(' ')]}"
   ]
  },
  {
   "cell_type": "code",
   "execution_count": 8,
   "metadata": {
    "ExecuteTime": {
     "end_time": "2019-10-17T20:42:51.119247Z",
     "start_time": "2019-10-17T20:42:51.111897Z"
    }
   },
   "outputs": [
    {
     "name": "stdout",
     "output_type": "stream",
     "text": [
      "['ri_padus', 'ri_reeds_regions', 'ri_smod', 'ri_srtm_slope']\n"
     ]
    }
   ],
   "source": [
    "with ExclusionLayers(excl_h5) as f:\n",
    "    print(f.layers)\n"
   ]
  },
  {
   "cell_type": "code",
   "execution_count": 9,
   "metadata": {
    "ExecuteTime": {
     "end_time": "2019-10-17T20:42:53.190044Z",
     "start_time": "2019-10-17T20:42:52.885223Z"
    }
   },
   "outputs": [
    {
     "name": "stdout",
     "output_type": "stream",
     "text": [
      "DEBUG - 2019-10-17 14:42:52,888 [exclusions_converter.py:307] : \t - Extracting ri_padus from ri_exclusions.h5\n",
      "DEBUG - 2019-10-17 14:42:52,901 [exclusions_converter.py:313] : \t- Writing ri_padus to /Users/mrossol/Downloads/padus.tif\n",
      "DEBUG - 2019-10-17 14:42:53,130 [exclusions_converter.py:280] : \t- /Users/mrossol/Downloads/padus.tif created\n"
     ]
    }
   ],
   "source": [
    "excl = ExclusionsConverter(excl_h5)\n",
    "out_path = '/Users/mrossol/Downloads/padus.tif'\n",
    "profile, values = excl['ri_padus', out_path]"
   ]
  },
  {
   "cell_type": "code",
   "execution_count": 4,
   "metadata": {
    "ExecuteTime": {
     "end_time": "2019-10-17T18:40:19.680977Z",
     "start_time": "2019-10-17T18:40:16.147882Z"
    }
   },
   "outputs": [
    {
     "name": "stdout",
     "output_type": "stream",
     "text": [
      "DEBUG - 2019-10-17 12:40:16,149 [exclusions_converter.py:128] : \t- Initializing /Users/mrossol/Git_Repos/reV/tests/data/ri_exclusions/ri_exclusions.h5 from /Users/mrossol/Git_Repos/reV/tests/data/ri_exclusions/ri_reeds_regions.tif\n",
      "DEBUG - 2019-10-17 12:40:16,530 [exclusions_converter.py:134] : \t- \"profile\", \"meta\", and \"shape\" extracted from /Users/mrossol/Git_Repos/reV/tests/data/ri_exclusions/ri_reeds_regions.tif\n",
      "DEBUG - 2019-10-17 12:40:16,533 [exclusions_converter.py:139] : \t- Default profile:\n",
      "{'driver': 'GTiff', 'dtype': 'float64', 'nodata': 0.0, 'width': 972, 'height': 1434, 'count': 1, 'crs': '+proj=tmerc +lat_0=41.08333333333334 +lon_0=-71.5 +k=0.99999375 +x_0=100000 +y_0=0 +ellps=GRS80 +units=m +no_defs=True', 'transform': (90.0, 0.0, 65848.61752782026, 0.0, -90.0, 103948.14381277534), 'blockxsize': 128, 'blockysize': 128, 'tiled': True, 'compress': 'lzw', 'interleave': 'band'}\n",
      "DEBUG - 2019-10-17 12:40:16,536 [exclusions_converter.py:141] : \t- Default shape:\n",
      "(1434, 972)\n",
      "DEBUG - 2019-10-17 12:40:16,550 [exclusions_converter.py:144] : \t- \"meta\" data created and loaded\n",
      "DEBUG - 2019-10-17 12:40:16,581 [exclusions_converter.py:258] : \t- ri_reeds_regions being extracted from /Users/mrossol/Git_Repos/reV/tests/data/ri_exclusions/ri_reeds_regions.tif and added to ri_exclusions.h5\n",
      "DEBUG - 2019-10-17 12:40:17,433 [exclusions_converter.py:236] : \t- ri_reeds_regions created and loaded\n",
      "DEBUG - 2019-10-17 12:40:17,434 [exclusions_converter.py:239] : \t- Unique profile for ri_reeds_regions added:\n",
      "{'driver': 'GTiff', 'dtype': 'float64', 'nodata': 0.0, 'width': 972, 'height': 1434, 'count': 1, 'crs': '+proj=tmerc +lat_0=41.08333333333334 +lon_0=-71.5 +k=0.99999375 +x_0=100000 +y_0=0 +ellps=GRS80 +units=m +no_defs=True', 'transform': (90.0, 0.0, 65848.61752782026, 0.0, -90.0, 103948.14381277534), 'blockxsize': 128, 'blockysize': 128, 'tiled': True, 'compress': 'lzw', 'interleave': 'band'}\n",
      "DEBUG - 2019-10-17 12:40:17,450 [exclusions_converter.py:258] : \t- ri_srtm_slope being extracted from /Users/mrossol/Git_Repos/reV/tests/data/ri_exclusions/ri_srtm_slope.tif and added to ri_exclusions.h5\n",
      "DEBUG - 2019-10-17 12:40:18,201 [exclusions_converter.py:236] : \t- ri_srtm_slope created and loaded\n",
      "DEBUG - 2019-10-17 12:40:18,203 [exclusions_converter.py:239] : \t- Unique profile for ri_srtm_slope added:\n",
      "{'driver': 'GTiff', 'dtype': 'float32', 'nodata': -9999.0, 'width': 972, 'height': 1434, 'count': 1, 'crs': '+proj=tmerc +lat_0=41.08333333333334 +lon_0=-71.5 +k=0.99999375 +x_0=100000 +y_0=0 +ellps=GRS80 +towgs84=0,0,0,0,0,0,0 +units=m +no_defs=True', 'transform': (90.0, 0.0, 65848.61752782026, 0.0, -90.0, 103948.14381277534), 'blockxsize': 128, 'blockysize': 128, 'tiled': True, 'compress': 'lzw', 'interleave': 'band'}\n",
      "DEBUG - 2019-10-17 12:40:18,213 [exclusions_converter.py:258] : \t- ri_smod being extracted from /Users/mrossol/Git_Repos/reV/tests/data/ri_exclusions/ri_smod.tif and added to ri_exclusions.h5\n",
      "DEBUG - 2019-10-17 12:40:18,986 [exclusions_converter.py:236] : \t- ri_smod created and loaded\n",
      "DEBUG - 2019-10-17 12:40:18,988 [exclusions_converter.py:239] : \t- Unique profile for ri_smod added:\n",
      "{'driver': 'GTiff', 'dtype': 'uint8', 'nodata': None, 'width': 972, 'height': 1434, 'count': 1, 'crs': '+proj=tmerc +lat_0=41.08333333333334 +lon_0=-71.5 +k=0.99999375 +x_0=100000 +y_0=0 +ellps=GRS80 +towgs84=0,0,0,0,0,0,0 +units=m +no_defs=True', 'transform': (90.0, 0.0, 65848.61752782026, 0.0, -90.0, 103948.14381277534), 'blockxsize': 128, 'blockysize': 128, 'tiled': True, 'compress': 'lzw', 'interleave': 'band'}\n",
      "DEBUG - 2019-10-17 12:40:18,995 [exclusions_converter.py:258] : \t- ri_padus being extracted from /Users/mrossol/Git_Repos/reV/tests/data/ri_exclusions/ri_padus.tif and added to ri_exclusions.h5\n",
      "DEBUG - 2019-10-17 12:40:19,673 [exclusions_converter.py:236] : \t- ri_padus created and loaded\n",
      "DEBUG - 2019-10-17 12:40:19,674 [exclusions_converter.py:239] : \t- Unique profile for ri_padus added:\n",
      "{'driver': 'GTiff', 'dtype': 'uint8', 'nodata': 255.0, 'width': 972, 'height': 1434, 'count': 1, 'crs': '+proj=tmerc +lat_0=41.08333333333334 +lon_0=-71.5 +k=0.99999375 +x_0=100000 +y_0=0 +ellps=GRS80 +towgs84=0,0,0,0,0,0,0 +units=m +no_defs=True', 'transform': (90.0, 0.0, 65848.61752782026, 0.0, -90.0, 103948.14381277534), 'blockxsize': 128, 'blockysize': 128, 'tiled': True, 'compress': 'lzw', 'interleave': 'band'}\n"
     ]
    }
   ],
   "source": [
    "excl = ExclusionsConverter(excl_h5)\n",
    "#excl[os.path.basename(layers[0]).split('.')[0]] = layers[0]\n",
    "ExclusionsConverter.create_h5(excl_h5, layers)"
   ]
  }
 ],
 "metadata": {
  "kernelspec": {
   "display_name": "Python [conda env:rex]",
   "language": "python",
   "name": "conda-env-rex-py"
  },
  "language_info": {
   "codemirror_mode": {
    "name": "ipython",
    "version": 3
   },
   "file_extension": ".py",
   "mimetype": "text/x-python",
   "name": "python",
   "nbconvert_exporter": "python",
   "pygments_lexer": "ipython3",
   "version": "3.7.4"
  }
 },
 "nbformat": 4,
 "nbformat_minor": 2
}
