{
 "cells": [
  {
   "cell_type": "code",
   "execution_count": 1,
   "metadata": {
    "ExecuteTime": {
     "end_time": "2019-10-15T17:55:00.994268Z",
     "start_time": "2019-10-15T17:55:00.203365Z"
    }
   },
   "outputs": [],
   "source": [
    "import h5py\n",
    "import numpy as np\n",
    "import rasterio\n",
    "import xarray as xr\n",
    "import os\n",
    "\n",
    "bin_dir = os.getcwd()\n",
    "pkg_dir = os.path.dirname(bin_dir)\n",
    "data_dir = os.path.join(pkg_dir, 'tests', 'data', 'ri_exclusions')"
   ]
  },
  {
   "cell_type": "code",
   "execution_count": 46,
   "metadata": {},
   "outputs": [
    {
     "name": "stdout",
     "output_type": "stream",
     "text": [
      "(1434, 972)\n",
      "(1,)\n",
      "{'driver': 'GTiff', 'dtype': 'float32', 'nodata': None, 'width': 972, 'height': 1434, 'count': 1, 'crs': CRS.from_wkt('PROJCS[\"unnamed\",GEOGCS[\"GRS 1980(IUGG, 1980)\",DATUM[\"unknown\",SPHEROID[\"GRS80\",6378137,298.257222101],TOWGS84[0,0,0,0,0,0,0]],PRIMEM[\"Greenwich\",0],UNIT[\"degree\",0.0174532925199433]],PROJECTION[\"Transverse_Mercator\"],PARAMETER[\"latitude_of_origin\",41.08333333333334],PARAMETER[\"central_meridian\",-71.5],PARAMETER[\"scale_factor\",0.99999375],PARAMETER[\"false_easting\",100000],PARAMETER[\"false_northing\",0],UNIT[\"metre\",1,AUTHORITY[\"EPSG\",\"9001\"]]]'), 'transform': Affine(90.0, 0.0, 65848.61752782026,\n",
      "       0.0, -90.0, 103948.14381277534), 'blockxsize': 128, 'blockysize': 128, 'tiled': True, 'compress': 'lzw', 'interleave': 'band'}\n",
      "/Users/mrossol/Git_Repos/reV/tests/data/ri_exclusions/exclusions_padus.tif\n"
     ]
    }
   ],
   "source": [
    "path = os.path.join(data_dir, 'exclusions_padus.tif')\n",
    "with rasterio.open(path, 'r') as file:\n",
    "    print(file.shape)\n",
    "    print(file.indexes)\n",
    "    print(file.profile)\n",
    "    data = np.array([file.read(i) for i in file.indexes])\n",
    "    print(file.name)"
   ]
  },
  {
   "cell_type": "code",
   "execution_count": 9,
   "metadata": {
    "ExecuteTime": {
     "end_time": "2019-10-15T18:01:52.911413Z",
     "start_time": "2019-10-15T18:01:52.880139Z"
    }
   },
   "outputs": [
    {
     "name": "stdout",
     "output_type": "stream",
     "text": [
      "[[[1. 1. 1. ... 1. 1. 1.]\n",
      "  [1. 1. 1. ... 1. 1. 1.]\n",
      "  [1. 1. 1. ... 1. 1. 1.]\n",
      "  ...\n",
      "  [1. 1. 1. ... 1. 1. 1.]\n",
      "  [1. 1. 1. ... 1. 1. 1.]\n",
      "  [1. 1. 1. ... 1. 1. 1.]]]\n"
     ]
    }
   ],
   "source": [
    "path = os.path.join(data_dir, 'exclusions_padus.tif')\n",
    "with xr.open_rasterio(path, ) as f:\n",
    "    lon = f.coords['x'].values.astype(np.float32)[x_slice]\n",
    "    lat = f.coords['y'].values.astype(np.float32)[y_slice]\n",
    "\n",
    "    row_ind, col_ind = self._get_meta_inds(x_slice, y_slice, lon, lat)\n",
    "\n",
    "    lon, lat = np.meshgrid(lon, lat)\n",
    "    lon = lon.flatten()\n",
    "    lat = lat.flatten()\n",
    "    lon, lat = transform(Proj(f.attrs['crs']),\n",
    "                         Proj({\"init\": \"epsg:4326\"}),\n",
    "                         lon, lat)"
   ]
  },
  {
   "cell_type": "code",
   "execution_count": null,
   "metadata": {},
   "outputs": [],
   "source": [
    "path = os.path.join(data_dir, 'exclusions_padus.tif')\n",
    "with xr.open_rasterio(path, parse_coordinates=True) as f:\n",
    "    print(f.values)"
   ]
  },
  {
   "cell_type": "code",
   "execution_count": null,
   "metadata": {},
   "outputs": [],
   "source": []
  }
 ],
 "metadata": {
  "kernelspec": {
   "display_name": "Python [conda env:rev]",
   "language": "python",
   "name": "conda-env-rev-py"
  },
  "language_info": {
   "codemirror_mode": {
    "name": "ipython",
    "version": 3
   },
   "file_extension": ".py",
   "mimetype": "text/x-python",
   "name": "python",
   "nbconvert_exporter": "python",
   "pygments_lexer": "ipython3",
   "version": "3.7.4"
  }
 },
 "nbformat": 4,
 "nbformat_minor": 2
}
