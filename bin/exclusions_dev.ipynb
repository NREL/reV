{
 "cells": [
  {
   "cell_type": "code",
   "execution_count": 1,
   "metadata": {
    "ExecuteTime": {
     "end_time": "2019-10-15T19:37:01.426161Z",
     "start_time": "2019-10-15T19:36:59.191852Z"
    }
   },
   "outputs": [],
   "source": [
    "import h5py\n",
    "import numpy as np\n",
    "import rasterio\n",
    "import xarray as xr\n",
    "from pyproj import transform, Proj\n",
    "import os\n",
    "\n",
    "bin_dir = os.getcwd()\n",
    "pkg_dir = os.path.dirname(bin_dir)\n",
    "data_dir = os.path.join(pkg_dir, 'tests', 'data', 'ri_exclusions')"
   ]
  },
  {
   "cell_type": "code",
   "execution_count": 2,
   "metadata": {
    "ExecuteTime": {
     "end_time": "2019-10-15T19:37:01.479045Z",
     "start_time": "2019-10-15T19:37:01.428274Z"
    }
   },
   "outputs": [
    {
     "name": "stdout",
     "output_type": "stream",
     "text": [
      "(1434, 972)\n",
      "(1,)\n",
      "{'driver': 'GTiff', 'dtype': 'float32', 'nodata': None, 'width': 972, 'height': 1434, 'count': 1, 'crs': CRS.from_wkt('PROJCS[\"unnamed\",GEOGCS[\"GRS 1980(IUGG, 1980)\",DATUM[\"unknown\",SPHEROID[\"GRS80\",6378137,298.257222101],TOWGS84[0,0,0,0,0,0,0]],PRIMEM[\"Greenwich\",0],UNIT[\"degree\",0.0174532925199433]],PROJECTION[\"Transverse_Mercator\"],PARAMETER[\"latitude_of_origin\",41.08333333333334],PARAMETER[\"central_meridian\",-71.5],PARAMETER[\"scale_factor\",0.99999375],PARAMETER[\"false_easting\",100000],PARAMETER[\"false_northing\",0],UNIT[\"metre\",1,AUTHORITY[\"EPSG\",\"9001\"]]]'), 'transform': Affine(90.0, 0.0, 65848.61752782026,\n",
      "       0.0, -90.0, 103948.14381277534), 'blockxsize': 128, 'blockysize': 128, 'tiled': True, 'compress': 'lzw', 'interleave': 'band'}\n",
      "/Users/mrossol/Git_Repos/reV/tests/data/ri_exclusions/exclusions_padus.tif\n"
     ]
    }
   ],
   "source": [
    "path = os.path.join(data_dir, 'exclusions_padus.tif')\n",
    "with rasterio.open(path, 'r') as file:\n",
    "    print(file.shape)\n",
    "    print(file.indexes)\n",
    "    print(file.profile)\n",
    "    data = np.array([file.read(i) for i in file.indexes])\n",
    "    print(file.name)"
   ]
  },
  {
   "cell_type": "code",
   "execution_count": 6,
   "metadata": {
    "ExecuteTime": {
     "end_time": "2019-10-15T19:37:03.088836Z",
     "start_time": "2019-10-15T19:37:02.686087Z"
    }
   },
   "outputs": [],
   "source": [
    "path = os.path.join(data_dir, 'exclusions_padus.tif')\n",
    "with xr.open_rasterio(path, ) as f:\n",
    "    lon = f.coords['x'].values.astype(np.float32)[...]\n",
    "    lat = f.coords['y'].values.astype(np.float32)[...]\n",
    "\n",
    "    lon, lat = np.meshgrid(lon, lat)\n",
    "    lon = lon.flatten()\n",
    "    lat = lat.flatten()\n",
    "    lon_1, lat_1 = transform(Proj(f.attrs['crs']),\n",
    "                         Proj({\"init\": \"epsg:4326\"}),\n",
    "                         lon, lat)"
   ]
  },
  {
   "cell_type": "code",
   "execution_count": 7,
   "metadata": {
    "ExecuteTime": {
     "end_time": "2019-10-15T19:37:03.120329Z",
     "start_time": "2019-10-15T19:37:03.092264Z"
    }
   },
   "outputs": [],
   "source": [
    "path = os.path.join(data_dir, 'exclusions_padus.tif')\n",
    "with xr.open_rasterio(path, parse_coordinates=True) as f:\n",
    "    lon = f.coords['x'].values.astype(np.float32)[...]\n",
    "    lat = f.coords['y'].values.astype(np.float32)[...]\n",
    "    \n",
    "    lon, lat = np.meshgrid(lon, lat)\n",
    "    lon_2 = lon.flatten()\n",
    "    lat_2 = lat.flatten()"
   ]
  },
  {
   "cell_type": "code",
   "execution_count": 8,
   "metadata": {
    "ExecuteTime": {
     "end_time": "2019-10-15T19:37:05.785135Z",
     "start_time": "2019-10-15T19:37:05.764072Z"
    }
   },
   "outputs": [
    {
     "data": {
      "text/plain": [
       "array([42.01812064, 42.01812454, 42.01812842, ..., 40.85589357,\n",
       "       40.85588774, 40.8558819 ])"
      ]
     },
     "execution_count": 8,
     "metadata": {},
     "output_type": "execute_result"
    }
   ],
   "source": [
    "lat_1"
   ]
  },
  {
   "cell_type": "code",
   "execution_count": null,
   "metadata": {},
   "outputs": [],
   "source": []
  }
 ],
 "metadata": {
  "kernelspec": {
   "display_name": "Python [conda env:rev]",
   "language": "python",
   "name": "conda-env-rev-py"
  },
  "language_info": {
   "codemirror_mode": {
    "name": "ipython",
    "version": 3
   },
   "file_extension": ".py",
   "mimetype": "text/x-python",
   "name": "python",
   "nbconvert_exporter": "python",
   "pygments_lexer": "ipython3",
   "version": "3.7.4"
  }
 },
 "nbformat": 4,
 "nbformat_minor": 2
}
