{
 "cells": [
  {
   "cell_type": "code",
   "execution_count": 2,
   "metadata": {
    "ExecuteTime": {
     "end_time": "2019-10-16T15:55:44.922366Z",
     "start_time": "2019-10-16T15:55:40.616384Z"
    }
   },
   "outputs": [],
   "source": [
    "import h5py\n",
    "import numpy as np\n",
    "import rasterio\n",
    "import xarray as xr\n",
    "from pyproj import transform, Proj\n",
    "import os\n",
    "\n",
    "bin_dir = os.getcwd()\n",
    "pkg_dir = os.path.dirname(bin_dir)\n",
    "data_dir = os.path.join(pkg_dir, 'tests', 'data', 'ri_exclusions')"
   ]
  },
  {
   "cell_type": "code",
   "execution_count": 3,
   "metadata": {
    "ExecuteTime": {
     "end_time": "2019-10-16T15:55:50.851105Z",
     "start_time": "2019-10-16T15:55:50.711905Z"
    }
   },
   "outputs": [
    {
     "name": "stdout",
     "output_type": "stream",
     "text": [
      "{'driver': 'GTiff', 'dtype': 'float32', 'nodata': None, 'width': 972, 'height': 1434, 'count': 1, 'crs': CRS.from_wkt('PROJCS[\"unnamed\",GEOGCS[\"GRS 1980(IUGG, 1980)\",DATUM[\"unknown\",SPHEROID[\"GRS80\",6378137,298.257222101],TOWGS84[0,0,0,0,0,0,0]],PRIMEM[\"Greenwich\",0],UNIT[\"degree\",0.0174532925199433]],PROJECTION[\"Transverse_Mercator\"],PARAMETER[\"latitude_of_origin\",41.08333333333334],PARAMETER[\"central_meridian\",-71.5],PARAMETER[\"scale_factor\",0.99999375],PARAMETER[\"false_easting\",100000],PARAMETER[\"false_northing\",0],UNIT[\"metre\",1,AUTHORITY[\"EPSG\",\"9001\"]]]'), 'transform': Affine(90.0, 0.0, 65848.61752782026,\n",
      "       0.0, -90.0, 103948.14381277534), 'blockxsize': 128, 'blockysize': 128, 'tiled': True, 'compress': 'lzw', 'interleave': 'band'}\n"
     ]
    }
   ],
   "source": [
    "path = os.path.join(data_dir, 'exclusions_padus.tif')\n",
    "with rasterio.open(path, 'r') as file:\n",
    "    print(file.profile)"
   ]
  },
  {
   "cell_type": "code",
   "execution_count": 17,
   "metadata": {
    "ExecuteTime": {
     "end_time": "2019-10-16T15:59:19.449183Z",
     "start_time": "2019-10-16T15:59:19.023147Z"
    }
   },
   "outputs": [
    {
     "name": "stdout",
     "output_type": "stream",
     "text": [
      "CPU times: user 11.5 ms, sys: 2.32 ms, total: 13.8 ms\n",
      "Wall time: 14.4 ms\n",
      "CPU times: user 51 µs, sys: 3 µs, total: 54 µs\n",
      "Wall time: 55.1 µs\n"
     ]
    },
    {
     "data": {
      "text/plain": [
       "True"
      ]
     },
     "execution_count": 17,
     "metadata": {},
     "output_type": "execute_result"
    }
   ],
   "source": [
    "path = os.path.join(data_dir, 'exclusions_padus.tif')\n",
    "with xr.open_rasterio(path, ) as f:\n",
    "    lon = f.coords['x'].values.astype(np.float32)[...]\n",
    "    lat = f.coords['y'].values.astype(np.float32)[...]\n",
    "\n",
    "    lon, lat = np.meshgrid(lon, lat)\n",
    "    lon = lon.flatten()\n",
    "    lat = lat.flatten()\n",
    "    lon_1, lat_1 = transform(Proj(f.attrs['crs']),\n",
    "                         Proj({\"init\": \"epsg:4326\"}),\n",
    "                         lon, lat)\n",
    "\n",
    "    %time data_1 = f.values[0, :10, :10]\n",
    "    slices = (0, slice(None, 10), slice(None, 10))\n",
    "    %time data_2 = f.values[slices]\n",
    "\n",
    "np.array_equal(data_1, data_2)"
   ]
  },
  {
   "cell_type": "code",
   "execution_count": 19,
   "metadata": {
    "ExecuteTime": {
     "end_time": "2019-10-16T15:59:27.559634Z",
     "start_time": "2019-10-16T15:59:27.547575Z"
    }
   },
   "outputs": [
    {
     "data": {
      "text/plain": [
       "(10, 10)"
      ]
     },
     "execution_count": 19,
     "metadata": {},
     "output_type": "execute_result"
    }
   ],
   "source": [
    "data_1.shape"
   ]
  },
  {
   "cell_type": "code",
   "execution_count": null,
   "metadata": {},
   "outputs": [],
   "source": []
  }
 ],
 "metadata": {
  "kernelspec": {
   "display_name": "Python [conda env:rev]",
   "language": "python",
   "name": "conda-env-rev-py"
  },
  "language_info": {
   "codemirror_mode": {
    "name": "ipython",
    "version": 3
   },
   "file_extension": ".py",
   "mimetype": "text/x-python",
   "name": "python",
   "nbconvert_exporter": "python",
   "pygments_lexer": "ipython3",
   "version": "3.7.4"
  }
 },
 "nbformat": 4,
 "nbformat_minor": 2
}
