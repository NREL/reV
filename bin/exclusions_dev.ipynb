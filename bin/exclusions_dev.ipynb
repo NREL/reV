{
 "cells": [
  {
   "cell_type": "code",
   "execution_count": 1,
   "metadata": {
    "ExecuteTime": {
     "end_time": "2019-10-22T16:35:19.683118Z",
     "start_time": "2019-10-22T16:35:10.738374Z"
    }
   },
   "outputs": [
    {
     "name": "stderr",
     "output_type": "stream",
     "text": [
      "/Users/mrossol/miniconda3/envs/rex/lib/python3.7/site-packages/xarray/core/merge.py:17: FutureWarning: The Panel class is removed from pandas. Accessing it from the top-level namespace will also be removed in the next version\n",
      "  PANDAS_TYPES = (pd.Series, pd.DataFrame, pd.Panel)\n"
     ]
    }
   ],
   "source": [
    "import h5py\n",
    "import json\n",
    "import numpy as np\n",
    "import os\n",
    "import pandas as pd\n",
    "\n",
    "from reV.handlers.exclusions import ExclusionLayers\n",
    "from reVX.handlers.geotiff import Geotiff\n",
    "from reVX.utilities.exclusions_converter import ExclusionsConverter\n",
    "from reVX.utilities.loggers import setup_logger\n",
    "\n",
    "data_dir = os.path.join('/Users/mrossol/Git_Repos/reVX/tests/data/ri_exclusions')\n",
    "\n",
    "layers = [os.path.join(data_dir, f) for f in os.listdir(data_dir)\n",
    "          if f.startswith('ri') and f.endswith('.tif')]\n",
    "excl_h5 = '/Users/mrossol/Git_Repos/reV/tests/data/ri_exclusions/ri_exclusions.h5'\n",
    "\n",
    "logger = setup_logger('reVX', log_level='DEBUG')"
   ]
  },
  {
   "cell_type": "code",
   "execution_count": null,
   "metadata": {},
   "outputs": [],
   "source": []
  },
  {
   "cell_type": "code",
   "execution_count": 19,
   "metadata": {
    "ExecuteTime": {
     "end_time": "2019-10-22T16:38:37.845496Z",
     "start_time": "2019-10-22T16:38:37.737275Z"
    }
   },
   "outputs": [
    {
     "name": "stdout",
     "output_type": "stream",
     "text": [
      "['ri_padus', 'ri_reeds_regions', 'ri_smod', 'ri_srtm_slope']\n",
      "ri_padus\n",
      "1 255\n",
      "[  1   2 255]\n",
      "ri_reeds_regions\n",
      "0.0 41.0\n",
      "ri_smod\n",
      "1 3\n",
      "[1 2 3]\n",
      "ri_srtm_slope\n",
      "0.0 42.61728\n"
     ]
    }
   ],
   "source": [
    "with ExclusionLayers(excl_h5) as f:\n",
    "    print(f.layers)\n",
    "    for layer in f.layers:\n",
    "        print(layer)\n",
    "        data = f[layer][...]\n",
    "        print(data.min(), data.max())\n",
    "        if isinstance(data[0, 0], np.integer):\n",
    "            print(np.unique(data))\n"
   ]
  }
 ],
 "metadata": {
  "kernelspec": {
   "display_name": "Python [conda env:rex]",
   "language": "python",
   "name": "conda-env-rex-py"
  },
  "language_info": {
   "codemirror_mode": {
    "name": "ipython",
    "version": 3
   },
   "file_extension": ".py",
   "mimetype": "text/x-python",
   "name": "python",
   "nbconvert_exporter": "python",
   "pygments_lexer": "ipython3",
   "version": "3.7.4"
  }
 },
 "nbformat": 4,
 "nbformat_minor": 2
}
